{
 "cells": [
  {
   "cell_type": "code",
   "execution_count": 1,
   "id": "c8f88a94",
   "metadata": {
    "scrolled": false
   },
   "outputs": [
    {
     "name": "stderr",
     "output_type": "stream",
     "text": [
      "2025-02-16 20:21:48,290 - INFO - Load pretrained SentenceTransformer: all-MiniLM-L6-v2\n",
      "2025-02-16 20:21:49,951 - INFO - Anonymized telemetry enabled. See                     https://docs.trychroma.com/telemetry for more information.\n"
     ]
    },
    {
     "name": "stdout",
     "output_type": "stream",
     "text": [
      "Enter patient ID: cfee79fc-df05-476e-b274-43e09ea345db\n",
      "Enter your medical query (or type 'exit' to quit): List all past medical encounters\n"
     ]
    },
    {
     "data": {
      "text/html": [
       "<pre style=\"white-space:pre;overflow-x:auto;line-height:normal;font-family:Menlo,'DejaVu Sans Mono',consolas,'Courier New',monospace\">╭─────────────────────────────────────────────────────────────────────────────────────────────────────────────────╮\n",
       "│ <span style=\"color: #008080; text-decoration-color: #008080; font-weight: bold\">Step 1: Retrieval</span>                                                                                               │\n",
       "╰─────────────────────────────────────────────────────────────────────────────────────────────────────────────────╯\n",
       "</pre>\n"
      ],
      "text/plain": [
       "╭─────────────────────────────────────────────────────────────────────────────────────────────────────────────────╮\n",
       "│ \u001b[1;36mStep 1: Retrieval\u001b[0m                                                                                               │\n",
       "╰─────────────────────────────────────────────────────────────────────────────────────────────────────────────────╯\n"
      ]
     },
     "metadata": {},
     "output_type": "display_data"
    },
    {
     "name": "stderr",
     "output_type": "stream",
     "text": [
      "2025-02-16 20:22:33,126 - INFO - Searching for patient data in multiple sources...\n",
      "2025-02-16 20:25:07,362 - INFO - Validating data consistency...\n",
      "2025-02-16 20:25:07,709 - INFO - Analyzing patient history based on query...\n",
      "2025-02-16 20:25:07,710 - INFO - Adding medical context to the analysis...\n",
      "2025-02-16 20:25:07,710 - INFO - Suggesting potential next steps...\n"
     ]
    },
    {
     "data": {
      "text/html": [
       "<pre style=\"white-space:pre;overflow-x:auto;line-height:normal;font-family:Menlo,'DejaVu Sans Mono',consolas,'Courier New',monospace\">╭─────────────────────────────────────────────────────────────────────────────────────────────────────────────────╮\n",
       "│ <span style=\"color: #008080; text-decoration-color: #008080; font-weight: bold\">Generating Summary...</span>                                                                                           │\n",
       "╰─────────────────────────────────────────────────────────────────────────────────────────────────────────────────╯\n",
       "</pre>\n"
      ],
      "text/plain": [
       "╭─────────────────────────────────────────────────────────────────────────────────────────────────────────────────╮\n",
       "│ \u001b[1;36mGenerating Summary...\u001b[0m                                                                                           │\n",
       "╰─────────────────────────────────────────────────────────────────────────────────────────────────────────────────╯\n"
      ]
     },
     "metadata": {},
     "output_type": "display_data"
    },
    {
     "name": "stderr",
     "output_type": "stream",
     "text": [
      "2025-02-16 20:25:07,711 - INFO - Generating AI-enhanced summary...\n"
     ]
    },
    {
     "data": {
      "text/html": [
       "<pre style=\"white-space:pre;overflow-x:auto;line-height:normal;font-family:Menlo,'DejaVu Sans Mono',consolas,'Courier New',monospace\">╭─────────────────────────────────────────────────────────────────────────────────────────────────────────────────╮\n",
       "│ <span style=\"color: #008000; text-decoration-color: #008000; font-weight: bold\">**Patient Summary:**</span>                                                                                            │\n",
       "│                                                                                                                 │\n",
       "│ <span style=\"color: #008000; text-decoration-color: #008000; font-weight: bold\">The patient has a documented history of increasing head occipital-frontal circumference measurements over time:</span> │\n",
       "│ <span style=\"color: #008000; text-decoration-color: #008000; font-weight: bold\">43.9 cm (2017), 47.6 cm (2018), 48.3 cm (2018), and 48.9 cm (2019). A respiratory rate of 13.0/min was also </span>    │\n",
       "│ <span style=\"color: #008000; text-decoration-color: #008000; font-weight: bold\">recorded in 2018. These findings suggest a potential abnormality in head growth that warrants further </span>          │\n",
       "│ <span style=\"color: #008000; text-decoration-color: #008000; font-weight: bold\">investigation. </span>                                                                                                 │\n",
       "│                                                                                                                 │\n",
       "│ <span style=\"color: #008000; text-decoration-color: #008000; font-weight: bold\">**Contextualized Insights:**</span>                                                                                    │\n",
       "│ <span style=\"color: #008000; text-decoration-color: #008000; font-weight: bold\">- The steady increase in head circumference may indicate a condition such as hydrocephalus, intracranial </span>       │\n",
       "│ <span style=\"color: #008000; text-decoration-color: #008000; font-weight: bold\">hypertension, or a space-occupying lesion.</span>                                                                      │\n",
       "│ <span style=\"color: #008000; text-decoration-color: #008000; font-weight: bold\">- The respiratory rate is within normal limits, suggesting no immediate concern related to breathing.</span>           │\n",
       "│                                                                                                                 │\n",
       "│ <span style=\"color: #008000; text-decoration-color: #008000; font-weight: bold\">**Suggested Next Steps:**</span>                                                                                       │\n",
       "│ <span style=\"color: #008000; text-decoration-color: #008000; font-weight: bold\">1. **Review Medication Plan:** Assess for any medications that could contribute to increased intracranial </span>      │\n",
       "│ <span style=\"color: #008000; text-decoration-color: #008000; font-weight: bold\">pressure or other relevant conditions.</span>                                                                          │\n",
       "│ <span style=\"color: #008000; text-decoration-color: #008000; font-weight: bold\">2. **Order Blood Test:** Evaluate for signs of infection, inflammation, or metabolic abnormalities.</span>             │\n",
       "│ <span style=\"color: #008000; text-decoration-color: #008000; font-weight: bold\">3. **Advanced Imaging:** Consider ordering a CT or MRI of the brain to investigate the cause of the increased </span>  │\n",
       "│ <span style=\"color: #008000; text-decoration-color: #008000; font-weight: bold\">head circumference.</span>                                                                                             │\n",
       "│ <span style=\"color: #008000; text-decoration-color: #008000; font-weight: bold\">4. **Neurological Evaluation:** Assess for symptoms of increased intracranial pressure, such as headaches, </span>     │\n",
       "│ <span style=\"color: #008000; text-decoration-color: #008000; font-weight: bold\">vision changes, or neurological deficits.</span>                                                                       │\n",
       "╰─────────────────────────────────────────────────────────────────────────────────────────────────────────────────╯\n",
       "</pre>\n"
      ],
      "text/plain": [
       "╭─────────────────────────────────────────────────────────────────────────────────────────────────────────────────╮\n",
       "│ \u001b[1;32m**Patient Summary:**\u001b[0m                                                                                            │\n",
       "│                                                                                                                 │\n",
       "│ \u001b[1;32mThe patient has a documented history of increasing head occipital-frontal circumference measurements over time:\u001b[0m │\n",
       "│ \u001b[1;32m43.9 cm (2017), 47.6 cm (2018), 48.3 cm (2018), and 48.9 cm (2019). A respiratory rate of 13.0/min was also \u001b[0m    │\n",
       "│ \u001b[1;32mrecorded in 2018. These findings suggest a potential abnormality in head growth that warrants further \u001b[0m          │\n",
       "│ \u001b[1;32minvestigation. \u001b[0m                                                                                                 │\n",
       "│                                                                                                                 │\n",
       "│ \u001b[1;32m**Contextualized Insights:**\u001b[0m                                                                                    │\n",
       "│ \u001b[1;32m- The steady increase in head circumference may indicate a condition such as hydrocephalus, intracranial \u001b[0m       │\n",
       "│ \u001b[1;32mhypertension, or a space-occupying lesion.\u001b[0m                                                                      │\n",
       "│ \u001b[1;32m- The respiratory rate is within normal limits, suggesting no immediate concern related to breathing.\u001b[0m           │\n",
       "│                                                                                                                 │\n",
       "│ \u001b[1;32m**Suggested Next Steps:**\u001b[0m                                                                                       │\n",
       "│ \u001b[1;32m1. **Review Medication Plan:** Assess for any medications that could contribute to increased intracranial \u001b[0m      │\n",
       "│ \u001b[1;32mpressure or other relevant conditions.\u001b[0m                                                                          │\n",
       "│ \u001b[1;32m2. **Order Blood Test:** Evaluate for signs of infection, inflammation, or metabolic abnormalities.\u001b[0m             │\n",
       "│ \u001b[1;32m3. **Advanced Imaging:** Consider ordering a CT or MRI of the brain to investigate the cause of the increased \u001b[0m  │\n",
       "│ \u001b[1;32mhead circumference.\u001b[0m                                                                                             │\n",
       "│ \u001b[1;32m4. **Neurological Evaluation:** Assess for symptoms of increased intracranial pressure, such as headaches, \u001b[0m     │\n",
       "│ \u001b[1;32mvision changes, or neurological deficits.\u001b[0m                                                                       │\n",
       "╰─────────────────────────────────────────────────────────────────────────────────────────────────────────────────╯\n"
      ]
     },
     "metadata": {},
     "output_type": "display_data"
    },
    {
     "name": "stdout",
     "output_type": "stream",
     "text": [
      "Enter your medical query (or type 'exit' to quit): Has the patient been prescribed any pain management medications?\n"
     ]
    },
    {
     "data": {
      "text/html": [
       "<pre style=\"white-space:pre;overflow-x:auto;line-height:normal;font-family:Menlo,'DejaVu Sans Mono',consolas,'Courier New',monospace\">╭─────────────────────────────────────────────────────────────────────────────────────────────────────────────────╮\n",
       "│ <span style=\"color: #008080; text-decoration-color: #008080; font-weight: bold\">Step 1: Retrieval</span>                                                                                               │\n",
       "╰─────────────────────────────────────────────────────────────────────────────────────────────────────────────────╯\n",
       "</pre>\n"
      ],
      "text/plain": [
       "╭─────────────────────────────────────────────────────────────────────────────────────────────────────────────────╮\n",
       "│ \u001b[1;36mStep 1: Retrieval\u001b[0m                                                                                               │\n",
       "╰─────────────────────────────────────────────────────────────────────────────────────────────────────────────────╯\n"
      ]
     },
     "metadata": {},
     "output_type": "display_data"
    },
    {
     "name": "stderr",
     "output_type": "stream",
     "text": [
      "2025-02-16 20:29:37,212 - INFO - Searching for patient data in multiple sources...\n",
      "2025-02-16 20:32:16,783 - INFO - Validating data consistency...\n",
      "2025-02-16 20:32:17,638 - INFO - Analyzing patient history based on query...\n",
      "2025-02-16 20:32:17,643 - INFO - Adding medical context to the analysis...\n",
      "2025-02-16 20:32:17,643 - INFO - Suggesting potential next steps...\n"
     ]
    },
    {
     "data": {
      "text/html": [
       "<pre style=\"white-space:pre;overflow-x:auto;line-height:normal;font-family:Menlo,'DejaVu Sans Mono',consolas,'Courier New',monospace\">╭─────────────────────────────────────────────────────────────────────────────────────────────────────────────────╮\n",
       "│ <span style=\"color: #008080; text-decoration-color: #008080; font-weight: bold\">Generating Summary...</span>                                                                                           │\n",
       "╰─────────────────────────────────────────────────────────────────────────────────────────────────────────────────╯\n",
       "</pre>\n"
      ],
      "text/plain": [
       "╭─────────────────────────────────────────────────────────────────────────────────────────────────────────────────╮\n",
       "│ \u001b[1;36mGenerating Summary...\u001b[0m                                                                                           │\n",
       "╰─────────────────────────────────────────────────────────────────────────────────────────────────────────────────╯\n"
      ]
     },
     "metadata": {},
     "output_type": "display_data"
    },
    {
     "name": "stderr",
     "output_type": "stream",
     "text": [
      "2025-02-16 20:32:17,653 - INFO - Generating AI-enhanced summary...\n"
     ]
    },
    {
     "data": {
      "text/html": [
       "<pre style=\"white-space:pre;overflow-x:auto;line-height:normal;font-family:Menlo,'DejaVu Sans Mono',consolas,'Courier New',monospace\">╭─────────────────────────────────────────────────────────────────────────────────────────────────────────────────╮\n",
       "│ <span style=\"color: #008000; text-decoration-color: #008000; font-weight: bold\">The patient has been prescribed Ibuprofen 100 MG Oral Tablet, an NSAID commonly used for pain management. The </span>  │\n",
       "│ <span style=\"color: #008000; text-decoration-color: #008000; font-weight: bold\">patient's reported pain severity scores have been low, ranging from 1.0 to 3.0. Suggested next steps include </span>   │\n",
       "│ <span style=\"color: #008000; text-decoration-color: #008000; font-weight: bold\">reviewing the current medication plan and ordering a blood test to assess the effectiveness of the treatment </span>   │\n",
       "│ <span style=\"color: #008000; text-decoration-color: #008000; font-weight: bold\">and potential underlying conditions.</span>                                                                            │\n",
       "╰─────────────────────────────────────────────────────────────────────────────────────────────────────────────────╯\n",
       "</pre>\n"
      ],
      "text/plain": [
       "╭─────────────────────────────────────────────────────────────────────────────────────────────────────────────────╮\n",
       "│ \u001b[1;32mThe patient has been prescribed Ibuprofen 100 MG Oral Tablet, an NSAID commonly used for pain management. The \u001b[0m  │\n",
       "│ \u001b[1;32mpatient's reported pain severity scores have been low, ranging from 1.0 to 3.0. Suggested next steps include \u001b[0m   │\n",
       "│ \u001b[1;32mreviewing the current medication plan and ordering a blood test to assess the effectiveness of the treatment \u001b[0m   │\n",
       "│ \u001b[1;32mand potential underlying conditions.\u001b[0m                                                                            │\n",
       "╰─────────────────────────────────────────────────────────────────────────────────────────────────────────────────╯\n"
      ]
     },
     "metadata": {},
     "output_type": "display_data"
    },
    {
     "name": "stdout",
     "output_type": "stream",
     "text": [
      "Enter your medical query (or type 'exit' to quit): What follow-up appointments are scheduled for the patient?\n"
     ]
    },
    {
     "data": {
      "text/html": [
       "<pre style=\"white-space:pre;overflow-x:auto;line-height:normal;font-family:Menlo,'DejaVu Sans Mono',consolas,'Courier New',monospace\">╭─────────────────────────────────────────────────────────────────────────────────────────────────────────────────╮\n",
       "│ <span style=\"color: #008080; text-decoration-color: #008080; font-weight: bold\">Step 1: Retrieval</span>                                                                                               │\n",
       "╰─────────────────────────────────────────────────────────────────────────────────────────────────────────────────╯\n",
       "</pre>\n"
      ],
      "text/plain": [
       "╭─────────────────────────────────────────────────────────────────────────────────────────────────────────────────╮\n",
       "│ \u001b[1;36mStep 1: Retrieval\u001b[0m                                                                                               │\n",
       "╰─────────────────────────────────────────────────────────────────────────────────────────────────────────────────╯\n"
      ]
     },
     "metadata": {},
     "output_type": "display_data"
    },
    {
     "name": "stderr",
     "output_type": "stream",
     "text": [
      "2025-02-16 20:36:41,255 - INFO - Searching for patient data in multiple sources...\n",
      "2025-02-16 20:39:49,190 - INFO - Validating data consistency...\n",
      "2025-02-16 20:39:50,064 - INFO - Analyzing patient history based on query...\n",
      "2025-02-16 20:39:50,065 - INFO - Adding medical context to the analysis...\n",
      "2025-02-16 20:39:50,065 - INFO - Suggesting potential next steps...\n"
     ]
    },
    {
     "data": {
      "text/html": [
       "<pre style=\"white-space:pre;overflow-x:auto;line-height:normal;font-family:Menlo,'DejaVu Sans Mono',consolas,'Courier New',monospace\">╭─────────────────────────────────────────────────────────────────────────────────────────────────────────────────╮\n",
       "│ <span style=\"color: #008080; text-decoration-color: #008080; font-weight: bold\">Generating Summary...</span>                                                                                           │\n",
       "╰─────────────────────────────────────────────────────────────────────────────────────────────────────────────────╯\n",
       "</pre>\n"
      ],
      "text/plain": [
       "╭─────────────────────────────────────────────────────────────────────────────────────────────────────────────────╮\n",
       "│ \u001b[1;36mGenerating Summary...\u001b[0m                                                                                           │\n",
       "╰─────────────────────────────────────────────────────────────────────────────────────────────────────────────────╯\n"
      ]
     },
     "metadata": {},
     "output_type": "display_data"
    },
    {
     "name": "stderr",
     "output_type": "stream",
     "text": [
      "2025-02-16 20:39:50,070 - INFO - Generating AI-enhanced summary...\n"
     ]
    },
    {
     "data": {
      "text/html": [
       "<pre style=\"white-space:pre;overflow-x:auto;line-height:normal;font-family:Menlo,'DejaVu Sans Mono',consolas,'Courier New',monospace\">╭─────────────────────────────────────────────────────────────────────────────────────────────────────────────────╮\n",
       "│ <span style=\"color: #008000; text-decoration-color: #008000; font-weight: bold\">There are no follow-up appointments scheduled for the patient listed in the provided data.</span>                      │\n",
       "╰─────────────────────────────────────────────────────────────────────────────────────────────────────────────────╯\n",
       "</pre>\n"
      ],
      "text/plain": [
       "╭─────────────────────────────────────────────────────────────────────────────────────────────────────────────────╮\n",
       "│ \u001b[1;32mThere are no follow-up appointments scheduled for the patient listed in the provided data.\u001b[0m                      │\n",
       "╰─────────────────────────────────────────────────────────────────────────────────────────────────────────────────╯\n"
      ]
     },
     "metadata": {},
     "output_type": "display_data"
    },
    {
     "name": "stdout",
     "output_type": "stream",
     "text": [
      "Enter your medical query (or type 'exit' to quit): Show recent lab results for the patient\n"
     ]
    },
    {
     "data": {
      "text/html": [
       "<pre style=\"white-space:pre;overflow-x:auto;line-height:normal;font-family:Menlo,'DejaVu Sans Mono',consolas,'Courier New',monospace\">╭─────────────────────────────────────────────────────────────────────────────────────────────────────────────────╮\n",
       "│ <span style=\"color: #008080; text-decoration-color: #008080; font-weight: bold\">Step 1: Retrieval</span>                                                                                               │\n",
       "╰─────────────────────────────────────────────────────────────────────────────────────────────────────────────────╯\n",
       "</pre>\n"
      ],
      "text/plain": [
       "╭─────────────────────────────────────────────────────────────────────────────────────────────────────────────────╮\n",
       "│ \u001b[1;36mStep 1: Retrieval\u001b[0m                                                                                               │\n",
       "╰─────────────────────────────────────────────────────────────────────────────────────────────────────────────────╯\n"
      ]
     },
     "metadata": {},
     "output_type": "display_data"
    },
    {
     "name": "stderr",
     "output_type": "stream",
     "text": [
      "2025-02-16 20:42:04,881 - INFO - Searching for patient data in multiple sources...\n",
      "2025-02-16 20:45:06,577 - INFO - Validating data consistency...\n",
      "2025-02-16 20:45:07,276 - INFO - Analyzing patient history based on query...\n",
      "2025-02-16 20:45:07,277 - INFO - Adding medical context to the analysis...\n",
      "2025-02-16 20:45:07,278 - INFO - Suggesting potential next steps...\n"
     ]
    },
    {
     "data": {
      "text/html": [
       "<pre style=\"white-space:pre;overflow-x:auto;line-height:normal;font-family:Menlo,'DejaVu Sans Mono',consolas,'Courier New',monospace\">╭─────────────────────────────────────────────────────────────────────────────────────────────────────────────────╮\n",
       "│ <span style=\"color: #008080; text-decoration-color: #008080; font-weight: bold\">Generating Summary...</span>                                                                                           │\n",
       "╰─────────────────────────────────────────────────────────────────────────────────────────────────────────────────╯\n",
       "</pre>\n"
      ],
      "text/plain": [
       "╭─────────────────────────────────────────────────────────────────────────────────────────────────────────────────╮\n",
       "│ \u001b[1;36mGenerating Summary...\u001b[0m                                                                                           │\n",
       "╰─────────────────────────────────────────────────────────────────────────────────────────────────────────────────╯\n"
      ]
     },
     "metadata": {},
     "output_type": "display_data"
    },
    {
     "name": "stderr",
     "output_type": "stream",
     "text": [
      "2025-02-16 20:45:07,285 - INFO - Generating AI-enhanced summary...\n"
     ]
    },
    {
     "data": {
      "text/html": [
       "<pre style=\"white-space:pre;overflow-x:auto;line-height:normal;font-family:Menlo,'DejaVu Sans Mono',consolas,'Courier New',monospace\">╭─────────────────────────────────────────────────────────────────────────────────────────────────────────────────╮\n",
       "│ <span style=\"color: #008000; text-decoration-color: #008000; font-weight: bold\">The patient's recent lab results are not available in the provided data. However, based on the contextualized </span>  │\n",
       "│ <span style=\"color: #008000; text-decoration-color: #008000; font-weight: bold\">insights, the suggested next steps include reviewing the patient's medication plan and ordering a blood test.</span>   │\n",
       "╰─────────────────────────────────────────────────────────────────────────────────────────────────────────────────╯\n",
       "</pre>\n"
      ],
      "text/plain": [
       "╭─────────────────────────────────────────────────────────────────────────────────────────────────────────────────╮\n",
       "│ \u001b[1;32mThe patient's recent lab results are not available in the provided data. However, based on the contextualized \u001b[0m  │\n",
       "│ \u001b[1;32minsights, the suggested next steps include reviewing the patient's medication plan and ordering a blood test.\u001b[0m   │\n",
       "╰─────────────────────────────────────────────────────────────────────────────────────────────────────────────────╯\n"
      ]
     },
     "metadata": {},
     "output_type": "display_data"
    },
    {
     "name": "stdout",
     "output_type": "stream",
     "text": [
      "Enter your medical query (or type 'exit' to quit): List all medications prescribed to the patient\n"
     ]
    },
    {
     "data": {
      "text/html": [
       "<pre style=\"white-space:pre;overflow-x:auto;line-height:normal;font-family:Menlo,'DejaVu Sans Mono',consolas,'Courier New',monospace\">╭─────────────────────────────────────────────────────────────────────────────────────────────────────────────────╮\n",
       "│ <span style=\"color: #008080; text-decoration-color: #008080; font-weight: bold\">Step 1: Retrieval</span>                                                                                               │\n",
       "╰─────────────────────────────────────────────────────────────────────────────────────────────────────────────────╯\n",
       "</pre>\n"
      ],
      "text/plain": [
       "╭─────────────────────────────────────────────────────────────────────────────────────────────────────────────────╮\n",
       "│ \u001b[1;36mStep 1: Retrieval\u001b[0m                                                                                               │\n",
       "╰─────────────────────────────────────────────────────────────────────────────────────────────────────────────────╯\n"
      ]
     },
     "metadata": {},
     "output_type": "display_data"
    },
    {
     "name": "stderr",
     "output_type": "stream",
     "text": [
      "2025-02-16 20:47:02,751 - INFO - Searching for patient data in multiple sources...\n",
      "2025-02-16 20:49:26,446 - INFO - Validating data consistency...\n",
      "2025-02-16 20:49:26,778 - INFO - Analyzing patient history based on query...\n",
      "2025-02-16 20:49:26,780 - INFO - Adding medical context to the analysis...\n",
      "2025-02-16 20:49:26,780 - INFO - Suggesting potential next steps...\n"
     ]
    },
    {
     "data": {
      "text/html": [
       "<pre style=\"white-space:pre;overflow-x:auto;line-height:normal;font-family:Menlo,'DejaVu Sans Mono',consolas,'Courier New',monospace\">╭─────────────────────────────────────────────────────────────────────────────────────────────────────────────────╮\n",
       "│ <span style=\"color: #008080; text-decoration-color: #008080; font-weight: bold\">Generating Summary...</span>                                                                                           │\n",
       "╰─────────────────────────────────────────────────────────────────────────────────────────────────────────────────╯\n",
       "</pre>\n"
      ],
      "text/plain": [
       "╭─────────────────────────────────────────────────────────────────────────────────────────────────────────────────╮\n",
       "│ \u001b[1;36mGenerating Summary...\u001b[0m                                                                                           │\n",
       "╰─────────────────────────────────────────────────────────────────────────────────────────────────────────────────╯\n"
      ]
     },
     "metadata": {},
     "output_type": "display_data"
    },
    {
     "name": "stderr",
     "output_type": "stream",
     "text": [
      "2025-02-16 20:49:26,786 - INFO - Generating AI-enhanced summary...\n"
     ]
    },
    {
     "data": {
      "text/html": [
       "<pre style=\"white-space:pre;overflow-x:auto;line-height:normal;font-family:Menlo,'DejaVu Sans Mono',consolas,'Courier New',monospace\">╭─────────────────────────────────────────────────────────────────────────────────────────────────────────────────╮\n",
       "│ <span style=\"color: #008000; text-decoration-color: #008000; font-weight: bold\">**Medication Summary:**</span>                                                                                         │\n",
       "│                                                                                                                 │\n",
       "│ <span style=\"color: #008000; text-decoration-color: #008000; font-weight: bold\">- **Amoxicillin 250 MG Oral Capsule**: Prescribed from July 24, 2018, to August 7, 2018.  </span>                      │\n",
       "│ <span style=\"color: #008000; text-decoration-color: #008000; font-weight: bold\">- **Ibuprofen 100 MG Oral Tablet**: Prescribed from July 24, 2018, to August 7, 2018.  </span>                         │\n",
       "│                                                                                                                 │\n",
       "│ <span style=\"color: #008000; text-decoration-color: #008000; font-weight: bold\">**Contextualized Insights:**</span>                                                                                    │\n",
       "│ <span style=\"color: #008000; text-decoration-color: #008000; font-weight: bold\">The patient has undergone medication reconciliation procedures on June 12, 2017, and December 10, 2018, </span>        │\n",
       "│ <span style=\"color: #008000; text-decoration-color: #008000; font-weight: bold\">indicating regular review of their medication regimen. Both medications are commonly prescribed for infections </span> │\n",
       "│ <span style=\"color: #008000; text-decoration-color: #008000; font-weight: bold\">and pain management.  </span>                                                                                          │\n",
       "│                                                                                                                 │\n",
       "│ <span style=\"color: #008000; text-decoration-color: #008000; font-weight: bold\">**Suggested Next Steps:**</span>                                                                                       │\n",
       "│ <span style=\"color: #008000; text-decoration-color: #008000; font-weight: bold\">1. Review the patient's medication plan to ensure adherence and appropriateness.  </span>                              │\n",
       "│ <span style=\"color: #008000; text-decoration-color: #008000; font-weight: bold\">2. Order a blood test to monitor for potential side effects of long-term ibuprofen use, such as kidney function</span> │\n",
       "│ <span style=\"color: #008000; text-decoration-color: #008000; font-weight: bold\">or gastrointestinal issues.</span>                                                                                     │\n",
       "╰─────────────────────────────────────────────────────────────────────────────────────────────────────────────────╯\n",
       "</pre>\n"
      ],
      "text/plain": [
       "╭─────────────────────────────────────────────────────────────────────────────────────────────────────────────────╮\n",
       "│ \u001b[1;32m**Medication Summary:**\u001b[0m                                                                                         │\n",
       "│                                                                                                                 │\n",
       "│ \u001b[1;32m- **Amoxicillin 250 MG Oral Capsule**: Prescribed from July 24, 2018, to August 7, 2018.  \u001b[0m                      │\n",
       "│ \u001b[1;32m- **Ibuprofen 100 MG Oral Tablet**: Prescribed from July 24, 2018, to August 7, 2018.  \u001b[0m                         │\n",
       "│                                                                                                                 │\n",
       "│ \u001b[1;32m**Contextualized Insights:**\u001b[0m                                                                                    │\n",
       "│ \u001b[1;32mThe patient has undergone medication reconciliation procedures on June 12, 2017, and December 10, 2018, \u001b[0m        │\n",
       "│ \u001b[1;32mindicating regular review of their medication regimen. Both medications are commonly prescribed for infections \u001b[0m │\n",
       "│ \u001b[1;32mand pain management.  \u001b[0m                                                                                          │\n",
       "│                                                                                                                 │\n",
       "│ \u001b[1;32m**Suggested Next Steps:**\u001b[0m                                                                                       │\n",
       "│ \u001b[1;32m1. Review the patient's medication plan to ensure adherence and appropriateness.  \u001b[0m                              │\n",
       "│ \u001b[1;32m2. Order a blood test to monitor for potential side effects of long-term ibuprofen use, such as kidney function\u001b[0m │\n",
       "│ \u001b[1;32mor gastrointestinal issues.\u001b[0m                                                                                     │\n",
       "╰─────────────────────────────────────────────────────────────────────────────────────────────────────────────────╯\n"
      ]
     },
     "metadata": {},
     "output_type": "display_data"
    },
    {
     "name": "stdout",
     "output_type": "stream",
     "text": [
      "Enter your medical query (or type 'exit' to quit): Give me a summary of the patient's medical history\n"
     ]
    },
    {
     "data": {
      "text/html": [
       "<pre style=\"white-space:pre;overflow-x:auto;line-height:normal;font-family:Menlo,'DejaVu Sans Mono',consolas,'Courier New',monospace\">╭─────────────────────────────────────────────────────────────────────────────────────────────────────────────────╮\n",
       "│ <span style=\"color: #008080; text-decoration-color: #008080; font-weight: bold\">Step 1: Retrieval</span>                                                                                               │\n",
       "╰─────────────────────────────────────────────────────────────────────────────────────────────────────────────────╯\n",
       "</pre>\n"
      ],
      "text/plain": [
       "╭─────────────────────────────────────────────────────────────────────────────────────────────────────────────────╮\n",
       "│ \u001b[1;36mStep 1: Retrieval\u001b[0m                                                                                               │\n",
       "╰─────────────────────────────────────────────────────────────────────────────────────────────────────────────────╯\n"
      ]
     },
     "metadata": {},
     "output_type": "display_data"
    },
    {
     "name": "stderr",
     "output_type": "stream",
     "text": [
      "2025-02-16 20:51:54,448 - INFO - Searching for patient data in multiple sources...\n",
      "2025-02-16 20:54:28,133 - INFO - Validating data consistency...\n",
      "2025-02-16 20:54:28,384 - INFO - Analyzing patient history based on query...\n",
      "2025-02-16 20:54:28,385 - INFO - Adding medical context to the analysis...\n",
      "2025-02-16 20:54:28,385 - INFO - Suggesting potential next steps...\n"
     ]
    },
    {
     "data": {
      "text/html": [
       "<pre style=\"white-space:pre;overflow-x:auto;line-height:normal;font-family:Menlo,'DejaVu Sans Mono',consolas,'Courier New',monospace\">╭─────────────────────────────────────────────────────────────────────────────────────────────────────────────────╮\n",
       "│ <span style=\"color: #008080; text-decoration-color: #008080; font-weight: bold\">Generating Summary...</span>                                                                                           │\n",
       "╰─────────────────────────────────────────────────────────────────────────────────────────────────────────────────╯\n",
       "</pre>\n"
      ],
      "text/plain": [
       "╭─────────────────────────────────────────────────────────────────────────────────────────────────────────────────╮\n",
       "│ \u001b[1;36mGenerating Summary...\u001b[0m                                                                                           │\n",
       "╰─────────────────────────────────────────────────────────────────────────────────────────────────────────────────╯\n"
      ]
     },
     "metadata": {},
     "output_type": "display_data"
    },
    {
     "name": "stderr",
     "output_type": "stream",
     "text": [
      "2025-02-16 20:54:28,387 - INFO - Generating AI-enhanced summary...\n"
     ]
    },
    {
     "data": {
      "text/html": [
       "<pre style=\"white-space:pre;overflow-x:auto;line-height:normal;font-family:Menlo,'DejaVu Sans Mono',consolas,'Courier New',monospace\">╭─────────────────────────────────────────────────────────────────────────────────────────────────────────────────╮\n",
       "│ <span style=\"color: #008000; text-decoration-color: #008000; font-weight: bold\">The patient has shown a steady increase in head occipital-frontal circumference over the observed period, from </span> │\n",
       "│ <span style=\"color: #008000; text-decoration-color: #008000; font-weight: bold\">38.2 cm in 2016 to 48.9 cm in 2019. This trend suggests potential abnormalities in head growth that may warrant</span> │\n",
       "│ <span style=\"color: #008000; text-decoration-color: #008000; font-weight: bold\">further investigation. Contextualized insights indicate possible conditions such as hydrocephalus or </span>           │\n",
       "│ <span style=\"color: #008000; text-decoration-color: #008000; font-weight: bold\">intracranial abnormalities. Suggested next steps include reviewing the patient's medication plan and ordering a</span> │\n",
       "│ <span style=\"color: #008000; text-decoration-color: #008000; font-weight: bold\">blood test to rule out underlying causes.</span>                                                                       │\n",
       "╰─────────────────────────────────────────────────────────────────────────────────────────────────────────────────╯\n",
       "</pre>\n"
      ],
      "text/plain": [
       "╭─────────────────────────────────────────────────────────────────────────────────────────────────────────────────╮\n",
       "│ \u001b[1;32mThe patient has shown a steady increase in head occipital-frontal circumference over the observed period, from \u001b[0m │\n",
       "│ \u001b[1;32m38.2 cm in 2016 to 48.9 cm in 2019. This trend suggests potential abnormalities in head growth that may warrant\u001b[0m │\n",
       "│ \u001b[1;32mfurther investigation. Contextualized insights indicate possible conditions such as hydrocephalus or \u001b[0m           │\n",
       "│ \u001b[1;32mintracranial abnormalities. Suggested next steps include reviewing the patient's medication plan and ordering a\u001b[0m │\n",
       "│ \u001b[1;32mblood test to rule out underlying causes.\u001b[0m                                                                       │\n",
       "╰─────────────────────────────────────────────────────────────────────────────────────────────────────────────────╯\n"
      ]
     },
     "metadata": {},
     "output_type": "display_data"
    },
    {
     "name": "stdout",
     "output_type": "stream",
     "text": [
      "Enter your medical query (or type 'exit' to quit): List all past hospital admissions\n"
     ]
    },
    {
     "data": {
      "text/html": [
       "<pre style=\"white-space:pre;overflow-x:auto;line-height:normal;font-family:Menlo,'DejaVu Sans Mono',consolas,'Courier New',monospace\">╭─────────────────────────────────────────────────────────────────────────────────────────────────────────────────╮\n",
       "│ <span style=\"color: #008080; text-decoration-color: #008080; font-weight: bold\">Step 1: Retrieval</span>                                                                                               │\n",
       "╰─────────────────────────────────────────────────────────────────────────────────────────────────────────────────╯\n",
       "</pre>\n"
      ],
      "text/plain": [
       "╭─────────────────────────────────────────────────────────────────────────────────────────────────────────────────╮\n",
       "│ \u001b[1;36mStep 1: Retrieval\u001b[0m                                                                                               │\n",
       "╰─────────────────────────────────────────────────────────────────────────────────────────────────────────────────╯\n"
      ]
     },
     "metadata": {},
     "output_type": "display_data"
    },
    {
     "name": "stderr",
     "output_type": "stream",
     "text": [
      "2025-02-16 21:03:20,430 - INFO - Searching for patient data in multiple sources...\n",
      "2025-02-16 21:05:32,613 - INFO - Validating data consistency...\n",
      "2025-02-16 21:05:32,750 - INFO - Analyzing patient history based on query...\n",
      "2025-02-16 21:05:32,750 - INFO - Adding medical context to the analysis...\n",
      "2025-02-16 21:05:32,751 - INFO - Suggesting potential next steps...\n"
     ]
    },
    {
     "data": {
      "text/html": [
       "<pre style=\"white-space:pre;overflow-x:auto;line-height:normal;font-family:Menlo,'DejaVu Sans Mono',consolas,'Courier New',monospace\">╭─────────────────────────────────────────────────────────────────────────────────────────────────────────────────╮\n",
       "│ <span style=\"color: #008080; text-decoration-color: #008080; font-weight: bold\">Generating Summary...</span>                                                                                           │\n",
       "╰─────────────────────────────────────────────────────────────────────────────────────────────────────────────────╯\n",
       "</pre>\n"
      ],
      "text/plain": [
       "╭─────────────────────────────────────────────────────────────────────────────────────────────────────────────────╮\n",
       "│ \u001b[1;36mGenerating Summary...\u001b[0m                                                                                           │\n",
       "╰─────────────────────────────────────────────────────────────────────────────────────────────────────────────────╯\n"
      ]
     },
     "metadata": {},
     "output_type": "display_data"
    },
    {
     "name": "stderr",
     "output_type": "stream",
     "text": [
      "2025-02-16 21:05:32,754 - INFO - Generating AI-enhanced summary...\n"
     ]
    },
    {
     "data": {
      "text/html": [
       "<pre style=\"white-space:pre;overflow-x:auto;line-height:normal;font-family:Menlo,'DejaVu Sans Mono',consolas,'Courier New',monospace\">╭─────────────────────────────────────────────────────────────────────────────────────────────────────────────────╮\n",
       "│ <span style=\"color: #008000; text-decoration-color: #008000; font-weight: bold\">The patient has no documented history of past hospital admissions. However, based on the current diagnosis of </span>  │\n",
       "│ <span style=\"color: #008000; text-decoration-color: #008000; font-weight: bold\">acute viral pharyngitis, the following insights and next steps are suggested:</span>                                   │\n",
       "│                                                                                                                 │\n",
       "│ <span style=\"color: #008000; text-decoration-color: #008000; font-weight: bold\">**Contextualized Insights:**</span>                                                                                    │\n",
       "│ <span style=\"color: #008000; text-decoration-color: #008000; font-weight: bold\">- Acute viral pharyngitis is typically caused by viral infections and is often self-limiting.</span>                   │\n",
       "│ <span style=\"color: #008000; text-decoration-color: #008000; font-weight: bold\">- Treatment usually focuses on symptom relief, including pain management and hydration.</span>                         │\n",
       "│ <span style=\"color: #008000; text-decoration-color: #008000; font-weight: bold\">- Antibiotics are not indicated for viral pharyngitis unless bacterial infection is confirmed.</span>                  │\n",
       "│                                                                                                                 │\n",
       "│ <span style=\"color: #008000; text-decoration-color: #008000; font-weight: bold\">**Suggested Next Steps:**</span>                                                                                       │\n",
       "│ <span style=\"color: #008000; text-decoration-color: #008000; font-weight: bold\">1. **Review Medication Plan:** Ensure the patient is not on any medications that could exacerbate symptoms or </span>  │\n",
       "│ <span style=\"color: #008000; text-decoration-color: #008000; font-weight: bold\">interact with potential treatments.</span>                                                                             │\n",
       "│ <span style=\"color: #008000; text-decoration-color: #008000; font-weight: bold\">2. **Order Blood Test:** Consider ordering a blood test to rule out bacterial infection or other underlying </span>    │\n",
       "│ <span style=\"color: #008000; text-decoration-color: #008000; font-weight: bold\">conditions that may require specific treatment.</span>                                                                 │\n",
       "╰─────────────────────────────────────────────────────────────────────────────────────────────────────────────────╯\n",
       "</pre>\n"
      ],
      "text/plain": [
       "╭─────────────────────────────────────────────────────────────────────────────────────────────────────────────────╮\n",
       "│ \u001b[1;32mThe patient has no documented history of past hospital admissions. However, based on the current diagnosis of \u001b[0m  │\n",
       "│ \u001b[1;32macute viral pharyngitis, the following insights and next steps are suggested:\u001b[0m                                   │\n",
       "│                                                                                                                 │\n",
       "│ \u001b[1;32m**Contextualized Insights:**\u001b[0m                                                                                    │\n",
       "│ \u001b[1;32m- Acute viral pharyngitis is typically caused by viral infections and is often self-limiting.\u001b[0m                   │\n",
       "│ \u001b[1;32m- Treatment usually focuses on symptom relief, including pain management and hydration.\u001b[0m                         │\n",
       "│ \u001b[1;32m- Antibiotics are not indicated for viral pharyngitis unless bacterial infection is confirmed.\u001b[0m                  │\n",
       "│                                                                                                                 │\n",
       "│ \u001b[1;32m**Suggested Next Steps:**\u001b[0m                                                                                       │\n",
       "│ \u001b[1;32m1. **Review Medication Plan:** Ensure the patient is not on any medications that could exacerbate symptoms or \u001b[0m  │\n",
       "│ \u001b[1;32minteract with potential treatments.\u001b[0m                                                                             │\n",
       "│ \u001b[1;32m2. **Order Blood Test:** Consider ordering a blood test to rule out bacterial infection or other underlying \u001b[0m    │\n",
       "│ \u001b[1;32mconditions that may require specific treatment.\u001b[0m                                                                 │\n",
       "╰─────────────────────────────────────────────────────────────────────────────────────────────────────────────────╯\n"
      ]
     },
     "metadata": {},
     "output_type": "display_data"
    },
    {
     "name": "stdout",
     "output_type": "stream",
     "text": [
      "Enter your medical query (or type 'exit' to quit): Does the patient have any cardiovascular risk factors?\n"
     ]
    },
    {
     "data": {
      "text/html": [
       "<pre style=\"white-space:pre;overflow-x:auto;line-height:normal;font-family:Menlo,'DejaVu Sans Mono',consolas,'Courier New',monospace\">╭─────────────────────────────────────────────────────────────────────────────────────────────────────────────────╮\n",
       "│ <span style=\"color: #008080; text-decoration-color: #008080; font-weight: bold\">Step 1: Retrieval</span>                                                                                               │\n",
       "╰─────────────────────────────────────────────────────────────────────────────────────────────────────────────────╯\n",
       "</pre>\n"
      ],
      "text/plain": [
       "╭─────────────────────────────────────────────────────────────────────────────────────────────────────────────────╮\n",
       "│ \u001b[1;36mStep 1: Retrieval\u001b[0m                                                                                               │\n",
       "╰─────────────────────────────────────────────────────────────────────────────────────────────────────────────────╯\n"
      ]
     },
     "metadata": {},
     "output_type": "display_data"
    },
    {
     "name": "stderr",
     "output_type": "stream",
     "text": [
      "2025-02-16 21:08:01,859 - INFO - Searching for patient data in multiple sources...\n",
      "2025-02-16 21:10:12,304 - INFO - Validating data consistency...\n",
      "2025-02-16 21:10:12,807 - INFO - Analyzing patient history based on query...\n",
      "2025-02-16 21:10:12,808 - INFO - Adding medical context to the analysis...\n",
      "2025-02-16 21:10:12,808 - INFO - Suggesting potential next steps...\n"
     ]
    },
    {
     "data": {
      "text/html": [
       "<pre style=\"white-space:pre;overflow-x:auto;line-height:normal;font-family:Menlo,'DejaVu Sans Mono',consolas,'Courier New',monospace\">╭─────────────────────────────────────────────────────────────────────────────────────────────────────────────────╮\n",
       "│ <span style=\"color: #008080; text-decoration-color: #008080; font-weight: bold\">Generating Summary...</span>                                                                                           │\n",
       "╰─────────────────────────────────────────────────────────────────────────────────────────────────────────────────╯\n",
       "</pre>\n"
      ],
      "text/plain": [
       "╭─────────────────────────────────────────────────────────────────────────────────────────────────────────────────╮\n",
       "│ \u001b[1;36mGenerating Summary...\u001b[0m                                                                                           │\n",
       "╰─────────────────────────────────────────────────────────────────────────────────────────────────────────────────╯\n"
      ]
     },
     "metadata": {},
     "output_type": "display_data"
    },
    {
     "name": "stderr",
     "output_type": "stream",
     "text": [
      "2025-02-16 21:10:12,812 - INFO - Generating AI-enhanced summary...\n"
     ]
    },
    {
     "data": {
      "text/html": [
       "<pre style=\"white-space:pre;overflow-x:auto;line-height:normal;font-family:Menlo,'DejaVu Sans Mono',consolas,'Courier New',monospace\">╭─────────────────────────────────────────────────────────────────────────────────────────────────────────────────╮\n",
       "│ <span style=\"color: #008000; text-decoration-color: #008000; font-weight: bold\">The patient's data does not provide specific information on cardiovascular risk factors. Suggested next steps </span>  │\n",
       "│ <span style=\"color: #008000; text-decoration-color: #008000; font-weight: bold\">include reviewing the medication plan and ordering a blood test to assess potential risk factors such as high </span>  │\n",
       "│ <span style=\"color: #008000; text-decoration-color: #008000; font-weight: bold\">cholesterol or diabetes.</span>                                                                                        │\n",
       "╰─────────────────────────────────────────────────────────────────────────────────────────────────────────────────╯\n",
       "</pre>\n"
      ],
      "text/plain": [
       "╭─────────────────────────────────────────────────────────────────────────────────────────────────────────────────╮\n",
       "│ \u001b[1;32mThe patient's data does not provide specific information on cardiovascular risk factors. Suggested next steps \u001b[0m  │\n",
       "│ \u001b[1;32minclude reviewing the medication plan and ordering a blood test to assess potential risk factors such as high \u001b[0m  │\n",
       "│ \u001b[1;32mcholesterol or diabetes.\u001b[0m                                                                                        │\n",
       "╰─────────────────────────────────────────────────────────────────────────────────────────────────────────────────╯\n"
      ]
     },
     "metadata": {},
     "output_type": "display_data"
    },
    {
     "name": "stdout",
     "output_type": "stream",
     "text": [
      "Enter your medical query (or type 'exit' to quit): exit\n"
     ]
    }
   ],
   "source": [
    "import os\n",
    "import json\n",
    "import requests\n",
    "import pandas as pd\n",
    "import logging\n",
    "from sentence_transformers import SentenceTransformer\n",
    "import chromadb\n",
    "from rich.console import Console\n",
    "from rich.panel import Panel\n",
    "import re\n",
    "from dotenv import load_dotenv\n",
    "\n",
    "load_dotenv()\n",
    "\n",
    "console = Console()\n",
    "\n",
    "logging.basicConfig(level=logging.INFO, format='%(asctime)s - %(levelname)s - %(message)s')\n",
    "\n",
    "class Retriever:\n",
    "    def __init__(self, data_directory):\n",
    "        self.data_directory = data_directory\n",
    "        self.patient_data_files = {\n",
    "            \"patients\": \"patients.csv\",\n",
    "            \"conditions\": \"conditions.csv\",\n",
    "            \"medications\": \"medications.csv\",\n",
    "            \"observations\": \"observations.csv\",\n",
    "            \"procedures\": \"procedures.csv\",\n",
    "            \"encounters\": \"encounters.csv\",\n",
    "            \"imaging_studies\": \"imaging_studies.csv\",\n",
    "            \"allergies\": \"allergies.csv\",\n",
    "            \"careplans\": \"careplans.csv\",\n",
    "            \"devices\": \"devices.csv\",\n",
    "            \"immunizations\": \"immunizations.csv\",\n",
    "            \"organizations\": \"organizations.csv\",\n",
    "            \"payer_transitions\": \"payer_transitions.csv\",\n",
    "            \"payers\": \"payers.csv\",\n",
    "            \"providers\": \"providers.csv\",\n",
    "        }\n",
    "        self.embedding_model = SentenceTransformer('all-MiniLM-L6-v2', device='mps')  # Fast on Mac M1/M2, or use 'cuda' on GPU\n",
    "        self.chroma_client = chromadb.PersistentClient(path=\"./chromadb\")\n",
    "        self.collection = self.chroma_client.get_or_create_collection(name=\"patient_data\")\n",
    "\n",
    "        if not os.path.exists(self.data_directory):\n",
    "            raise FileNotFoundError(f\"Error: The directory {self.data_directory} does not exist.\")\n",
    "\n",
    "    def fetch_patient_history(self, patient_id):\n",
    "        console.print(Panel(\"[bold cyan]Step 1: Retrieval[/bold cyan]\"))\n",
    "        logging.info(\"Searching for patient data in multiple sources...\")\n",
    "\n",
    "        patient_data = {key: [] for key in self.patient_data_files.keys()}\n",
    "\n",
    "        for key, filename in self.patient_data_files.items():\n",
    "            file_path = os.path.join(self.data_directory, filename)\n",
    "            if os.path.exists(file_path):\n",
    "                df = pd.read_csv(file_path, chunksize=50000)  # Large datasets optimized\n",
    "                records = []\n",
    "                for chunk in df:\n",
    "                    chunk.columns = chunk.columns.str.upper()\n",
    "                    if \"PATIENT\" in chunk.columns:\n",
    "                        filtered = chunk[chunk[\"PATIENT\"] == patient_id]\n",
    "                    elif \"ID\" in chunk.columns and key == \"patients\":\n",
    "                        filtered = chunk[chunk[\"ID\"] == patient_id]\n",
    "                    else:\n",
    "                        filtered = chunk\n",
    "\n",
    "                    records.extend(filtered.to_dict(orient='records'))\n",
    "                patient_data[key] = records\n",
    "\n",
    "        self.prepare_text_chunks(patient_data)\n",
    "        return patient_data\n",
    "\n",
    "    def prepare_text_chunks(self, patient_data):\n",
    "        # Instead of deleting entire collection, we upsert data to save time\n",
    "        ids_to_upsert = []\n",
    "        embeddings = []\n",
    "        documents = []\n",
    "        metadatas = []\n",
    "\n",
    "        for key, records in patient_data.items():\n",
    "            for idx, record in enumerate(records):\n",
    "                chunk_text = f\"{key}: {json.dumps(record, ensure_ascii=False)[:500]}\"  # Limit JSON size\n",
    "                embedding = self.embedding_model.encode(chunk_text, show_progress_bar=False).tolist()\n",
    "                ids_to_upsert.append(f\"{key}_{idx}\")\n",
    "                embeddings.append(embedding)\n",
    "                documents.append(chunk_text)\n",
    "                metadatas.append({\"key\": key})\n",
    "\n",
    "        # Upsert all at once (bulk insert is faster)\n",
    "        if ids_to_upsert:\n",
    "            self.collection.upsert(\n",
    "                ids=ids_to_upsert,\n",
    "                embeddings=embeddings,\n",
    "                documents=documents,\n",
    "                metadatas=metadatas\n",
    "            )\n",
    "\n",
    "    def retrieve_relevant_chunks(self, query, top_n=5):\n",
    "        query_embedding = self.embedding_model.encode(query, show_progress_bar=False).tolist()\n",
    "        results = self.collection.query(query_embeddings=[query_embedding], n_results=top_n)\n",
    "        relevant_chunks = results.get('documents', [[]])[0] if 'documents' in results else []\n",
    "        return \"\\n\".join(relevant_chunks)\n",
    "\n",
    "\n",
    "class Validator:\n",
    "    def validate(self, patient_data):\n",
    "        logging.info(\"Validating data consistency...\")\n",
    "        issues = []\n",
    "        for key, records in patient_data.items():\n",
    "            for record in records:\n",
    "                if 'DESCRIPTION' in record and not record['DESCRIPTION']:\n",
    "                    issues.append(f\"Missing description in {key}\")\n",
    "        if issues:\n",
    "            console.print(Panel(f\"[red]Validation Issues Found: {issues}[/red]\"))\n",
    "        return issues\n",
    "\n",
    "\n",
    "class Analyzer:\n",
    "    def analyze_history(self, patient_data, query):\n",
    "        logging.info(\"Analyzing patient history based on query...\")\n",
    "        return query\n",
    "\n",
    "\n",
    "class Contextualizer:\n",
    "    def add_context(self, analysis):\n",
    "        logging.info(\"Adding medical context to the analysis...\")\n",
    "        return analysis + \" | Contextualized insights based on medical guidelines.\"\n",
    "\n",
    "\n",
    "class DecisionSupportAgent:\n",
    "    def suggest_actions(self, analysis):\n",
    "        logging.info(\"Suggesting potential next steps...\")\n",
    "        return analysis + \" | Suggested next steps: Review medication plan, Order blood test.\"\n",
    "\n",
    "\n",
    "class Presenter:\n",
    "    def generate_summary(self, relevant_text, query):\n",
    "        console.print(Panel(\"[bold cyan]Generating Summary...[/bold cyan]\"))\n",
    "        logging.info(\"Generating AI-enhanced summary...\")\n",
    "        try:\n",
    "            url = \"https://api.groq.com/openai/v1/chat/completions\"\n",
    "            \n",
    "\n",
    "            GROQ_API_KEY = os.getenv(\"GROQ_API_KEY\")\n",
    "            headers = {\"Authorization\": f\"Bearer {GROQ_API_KEY}\", \"Content-Type\": \"application/json\"}\n",
    "        \n",
    "            payload = {\n",
    "                \"model\": \"deepseek-r1-distill-llama-70b\",\n",
    "                \"messages\": [\n",
    "                    {\"role\": \"system\", \"content\": \"You are a medical assistant. Provide a concise and accurate summary based on the patient history. Do not explain your thought process.\"},\n",
    "                    {\"role\": \"user\", \"content\": f\"Relevant patient data: {relevant_text[:3000]}. Query: {query}\"}\n",
    "                ]\n",
    "            }\n",
    "            response = requests.post(url, headers=headers, json=payload)\n",
    "            response_json = response.json()\n",
    "\n",
    "            summary_raw = response_json.get(\"choices\", [{}])[0].get(\"message\", {}).get(\"content\", \"AI response error\")\n",
    "            summary_cleaned = re.sub(r\"<think>.*?</think>\", \"\", summary_raw, flags=re.DOTALL).strip()\n",
    "\n",
    "            console.print(Panel(f\"[bold green]{summary_cleaned}[/bold green]\"))\n",
    "        except Exception as e:\n",
    "            logging.error(f\"AI enhancement failed: {e}\")\n",
    "\n",
    "\n",
    "class PatientHistoryAnalyzer:\n",
    "    def __init__(self, data_directory):\n",
    "        self.retriever = Retriever(data_directory)\n",
    "        self.validator = Validator()\n",
    "        self.analyzer = Analyzer()\n",
    "        self.contextualizer = Contextualizer()\n",
    "        self.decision_support = DecisionSupportAgent()\n",
    "        self.presenter = Presenter()\n",
    "\n",
    "    def process_query(self, patient_id, query):\n",
    "        patient_data = self.retriever.fetch_patient_history(patient_id)\n",
    "        self.validator.validate(patient_data)\n",
    "\n",
    "        relevant_text = self.retriever.retrieve_relevant_chunks(query)\n",
    "\n",
    "        analysis = self.analyzer.analyze_history(patient_data, query)\n",
    "        analysis_with_context = self.contextualizer.add_context(analysis)\n",
    "        suggestions = self.decision_support.suggest_actions(analysis_with_context)\n",
    "\n",
    "        self.presenter.generate_summary(relevant_text, suggestions)\n",
    "\n",
    "\n",
    "if __name__ == \"__main__\":\n",
    "    data_directory = \"./data/\"\n",
    "    analyzer = PatientHistoryAnalyzer(data_directory)\n",
    "    patient_id = input(\"Enter patient ID: \")\n",
    "    while True:\n",
    "        query = input(\"Enter your medical query (or type 'exit' to quit): \")\n",
    "        if query.lower() == \"exit\":\n",
    "            break\n",
    "        analyzer.process_query(patient_id, query)\n"
   ]
  }
 ],
 "metadata": {
  "kernelspec": {
   "display_name": "Python 3 (ipykernel)",
   "language": "python",
   "name": "python3"
  },
  "language_info": {
   "codemirror_mode": {
    "name": "ipython",
    "version": 3
   },
   "file_extension": ".py",
   "mimetype": "text/x-python",
   "name": "python",
   "nbconvert_exporter": "python",
   "pygments_lexer": "ipython3",
   "version": "3.9.13"
  }
 },
 "nbformat": 4,
 "nbformat_minor": 5
}
