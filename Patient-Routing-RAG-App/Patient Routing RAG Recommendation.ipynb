{
 "cells": [
  {
   "cell_type": "code",
   "execution_count": 1,
   "id": "faac3064-9ec5-4c41-b96d-752301aa8521",
   "metadata": {},
   "outputs": [
    {
     "data": {
      "text/html": [
       "<pre style=\"white-space:pre;overflow-x:auto;line-height:normal;font-family:Menlo,'DejaVu Sans Mono',consolas,'Courier New',monospace\">\n",
       "<span style=\"color: #000080; text-decoration-color: #000080; font-weight: bold\">Step </span><span style=\"color: #000080; text-decoration-color: #000080; font-weight: bold\">4</span><span style=\"color: #000080; text-decoration-color: #000080; font-weight: bold\">: Enter Patient Report Details...</span>\n",
       "</pre>\n"
      ],
      "text/plain": [
       "\n",
       "\u001b[1;34mStep \u001b[0m\u001b[1;34m4\u001b[0m\u001b[1;34m: Enter Patient Report Details\u001b[0m\u001b[1;34m...\u001b[0m\n"
      ]
     },
     "metadata": {},
     "output_type": "display_data"
    },
    {
     "data": {
      "text/html": [
       "<pre style=\"white-space:pre;overflow-x:auto;line-height:normal;font-family:Menlo,'DejaVu Sans Mono',consolas,'Courier New',monospace\"><span style=\"color: #008000; text-decoration-color: #008000; font-weight: bold\">Enter Symptoms:</span> </pre>\n"
      ],
      "text/plain": [
       "\u001b[1;32mEnter Symptoms:\u001b[0m "
      ]
     },
     "metadata": {},
     "output_type": "display_data"
    },
    {
     "name": "stdin",
     "output_type": "stream",
     "text": [
      " Persistent cough, shortness of breath, chest pain.\n"
     ]
    },
    {
     "data": {
      "text/html": [
       "<pre style=\"white-space:pre;overflow-x:auto;line-height:normal;font-family:Menlo,'DejaVu Sans Mono',consolas,'Courier New',monospace\"><span style=\"color: #008000; text-decoration-color: #008000; font-weight: bold\">Enter Patient History:</span> </pre>\n"
      ],
      "text/plain": [
       "\u001b[1;32mEnter Patient History:\u001b[0m "
      ]
     },
     "metadata": {},
     "output_type": "display_data"
    },
    {
     "name": "stdin",
     "output_type": "stream",
     "text": [
      " Smoker for 20 years, family history of lung cancer.\n"
     ]
    },
    {
     "data": {
      "text/html": [
       "<pre style=\"white-space:pre;overflow-x:auto;line-height:normal;font-family:Menlo,'DejaVu Sans Mono',consolas,'Courier New',monospace\"><span style=\"color: #008000; text-decoration-color: #008000; font-weight: bold\">Enter Preliminary Diagnosis:</span> </pre>\n"
      ],
      "text/plain": [
       "\u001b[1;32mEnter Preliminary Diagnosis:\u001b[0m "
      ]
     },
     "metadata": {},
     "output_type": "display_data"
    },
    {
     "name": "stdin",
     "output_type": "stream",
     "text": [
      " Suspected lung cancer.\n"
     ]
    },
    {
     "data": {
      "text/html": [
       "<pre style=\"white-space:pre;overflow-x:auto;line-height:normal;font-family:Menlo,'DejaVu Sans Mono',consolas,'Courier New',monospace\">\n",
       "<span style=\"color: #008000; text-decoration-color: #008000; font-weight: bold\">Retrieved </span><span style=\"color: #008000; text-decoration-color: #008000; font-weight: bold\">2</span><span style=\"color: #008000; text-decoration-color: #008000; font-weight: bold\"> relevant specializations: Oncology, Pulmonology</span>\n",
       "</pre>\n"
      ],
      "text/plain": [
       "\n",
       "\u001b[1;32mRetrieved \u001b[0m\u001b[1;32m2\u001b[0m\u001b[1;32m relevant specializations: Oncology, Pulmonology\u001b[0m\n"
      ]
     },
     "metadata": {},
     "output_type": "display_data"
    },
    {
     "data": {
      "text/html": [
       "<pre style=\"white-space:pre;overflow-x:auto;line-height:normal;font-family:Menlo,'DejaVu Sans Mono',consolas,'Courier New',monospace\">\n",
       "<span style=\"color: #008000; text-decoration-color: #008000; font-weight: bold\">Step </span><span style=\"color: #008000; text-decoration-color: #008000; font-weight: bold\">6</span><span style=\"color: #008000; text-decoration-color: #008000; font-weight: bold\">: Final Output</span>\n",
       "</pre>\n"
      ],
      "text/plain": [
       "\n",
       "\u001b[1;32mStep \u001b[0m\u001b[1;32m6\u001b[0m\u001b[1;32m: Final Output\u001b[0m\n"
      ]
     },
     "metadata": {},
     "output_type": "display_data"
    },
    {
     "data": {
      "text/html": [
       "<pre style=\"white-space:pre;overflow-x:auto;line-height:normal;font-family:Menlo,'DejaVu Sans Mono',consolas,'Courier New',monospace\"><span style=\"color: #000080; text-decoration-color: #000080; font-weight: bold\">Recommendations:</span>\n",
       "</pre>\n"
      ],
      "text/plain": [
       "\u001b[1;34mRecommendations:\u001b[0m\n"
      ]
     },
     "metadata": {},
     "output_type": "display_data"
    },
    {
     "data": {
      "text/html": [
       "<pre style=\"white-space:pre;overflow-x:auto;line-height:normal;font-family:Menlo,'DejaVu Sans Mono',consolas,'Courier New',monospace\">\n",
       "<span style=\"color: #008080; text-decoration-color: #008080; font-weight: bold\">1</span>. <span style=\"color: #008080; text-decoration-color: #008080; font-weight: bold\">Dr. Alexander Martin</span>\n",
       "</pre>\n"
      ],
      "text/plain": [
       "\n",
       "\u001b[1;36m1\u001b[0m. \u001b[1;36mDr. Alexander Martin\u001b[0m\n"
      ]
     },
     "metadata": {},
     "output_type": "display_data"
    },
    {
     "data": {
      "text/html": [
       "<pre style=\"white-space:pre;overflow-x:auto;line-height:normal;font-family:Menlo,'DejaVu Sans Mono',consolas,'Courier New',monospace\">   - Specialization: <span style=\"color: #800080; text-decoration-color: #800080; font-weight: bold\">Pulmonology</span>\n",
       "</pre>\n"
      ],
      "text/plain": [
       "   - Specialization: \u001b[1;35mPulmonology\u001b[0m\n"
      ]
     },
     "metadata": {},
     "output_type": "display_data"
    },
    {
     "data": {
      "text/html": [
       "<pre style=\"white-space:pre;overflow-x:auto;line-height:normal;font-family:Menlo,'DejaVu Sans Mono',consolas,'Courier New',monospace\">   - Experience: <span style=\"color: #008000; text-decoration-color: #008000; font-weight: bold\">10</span><span style=\"color: #008000; text-decoration-color: #008000; font-weight: bold\"> years</span>\n",
       "</pre>\n"
      ],
      "text/plain": [
       "   - Experience: \u001b[1;32m10\u001b[0m\u001b[1;32m years\u001b[0m\n"
      ]
     },
     "metadata": {},
     "output_type": "display_data"
    },
    {
     "data": {
      "text/html": [
       "<pre style=\"white-space:pre;overflow-x:auto;line-height:normal;font-family:Menlo,'DejaVu Sans Mono',consolas,'Courier New',monospace\">   - Similarity Score: <span style=\"color: #808000; text-decoration-color: #808000; font-weight: bold\">1.4090005272048678</span>\n",
       "</pre>\n"
      ],
      "text/plain": [
       "   - Similarity Score: \u001b[1;33m1.4090005272048678\u001b[0m\n"
      ]
     },
     "metadata": {},
     "output_type": "display_data"
    },
    {
     "data": {
      "text/html": [
       "<pre style=\"white-space:pre;overflow-x:auto;line-height:normal;font-family:Menlo,'DejaVu Sans Mono',consolas,'Courier New',monospace\">   - Why: <span style=\"color: #c0c0c0; text-decoration-color: #c0c0c0; font-weight: bold\">This patient's persistent symptoms and risk factors suggest a serious condition that requires attention </span>\n",
       "<span style=\"color: #c0c0c0; text-decoration-color: #c0c0c0; font-weight: bold\">from an expert. Dr. Martin has the necessary experience and knowledge in pulmonology to address this patient's </span>\n",
       "<span style=\"color: #c0c0c0; text-decoration-color: #c0c0c0; font-weight: bold\">concerns.</span>\n",
       "<span style=\"color: #c0c0c0; text-decoration-color: #c0c0c0; font-weight: bold\">How can we ensure that Dr. Martin is adequately compensated for his time?</span>\n",
       "\n",
       "</pre>\n"
      ],
      "text/plain": [
       "   - Why: \u001b[1;37mThis patient's persistent symptoms and risk factors suggest a serious condition that requires attention \u001b[0m\n",
       "\u001b[1;37mfrom an expert. Dr. Martin has the necessary experience and knowledge in pulmonology to address this patient's \u001b[0m\n",
       "\u001b[1;37mconcerns.\u001b[0m\n",
       "\u001b[1;37mHow can we ensure that Dr. Martin is adequately compensated for his time?\u001b[0m\n",
       "\n"
      ]
     },
     "metadata": {},
     "output_type": "display_data"
    },
    {
     "data": {
      "text/html": [
       "<pre style=\"white-space:pre;overflow-x:auto;line-height:normal;font-family:Menlo,'DejaVu Sans Mono',consolas,'Courier New',monospace\">\n",
       "<span style=\"color: #008080; text-decoration-color: #008080; font-weight: bold\">2</span>. <span style=\"color: #008080; text-decoration-color: #008080; font-weight: bold\">Dr. Julia Sanchez</span>\n",
       "</pre>\n"
      ],
      "text/plain": [
       "\n",
       "\u001b[1;36m2\u001b[0m. \u001b[1;36mDr. Julia Sanchez\u001b[0m\n"
      ]
     },
     "metadata": {},
     "output_type": "display_data"
    },
    {
     "data": {
      "text/html": [
       "<pre style=\"white-space:pre;overflow-x:auto;line-height:normal;font-family:Menlo,'DejaVu Sans Mono',consolas,'Courier New',monospace\">   - Specialization: <span style=\"color: #800080; text-decoration-color: #800080; font-weight: bold\">Pulmonology</span>\n",
       "</pre>\n"
      ],
      "text/plain": [
       "   - Specialization: \u001b[1;35mPulmonology\u001b[0m\n"
      ]
     },
     "metadata": {},
     "output_type": "display_data"
    },
    {
     "data": {
      "text/html": [
       "<pre style=\"white-space:pre;overflow-x:auto;line-height:normal;font-family:Menlo,'DejaVu Sans Mono',consolas,'Courier New',monospace\">   - Experience: <span style=\"color: #008000; text-decoration-color: #008000; font-weight: bold\">9</span><span style=\"color: #008000; text-decoration-color: #008000; font-weight: bold\"> years</span>\n",
       "</pre>\n"
      ],
      "text/plain": [
       "   - Experience: \u001b[1;32m9\u001b[0m\u001b[1;32m years\u001b[0m\n"
      ]
     },
     "metadata": {},
     "output_type": "display_data"
    },
    {
     "data": {
      "text/html": [
       "<pre style=\"white-space:pre;overflow-x:auto;line-height:normal;font-family:Menlo,'DejaVu Sans Mono',consolas,'Courier New',monospace\">   - Similarity Score: <span style=\"color: #808000; text-decoration-color: #808000; font-weight: bold\">1.4388192477346096</span>\n",
       "</pre>\n"
      ],
      "text/plain": [
       "   - Similarity Score: \u001b[1;33m1.4388192477346096\u001b[0m\n"
      ]
     },
     "metadata": {},
     "output_type": "display_data"
    },
    {
     "data": {
      "text/html": [
       "<pre style=\"white-space:pre;overflow-x:auto;line-height:normal;font-family:Menlo,'DejaVu Sans Mono',consolas,'Courier New',monospace\">   - Why: <span style=\"color: #c0c0c0; text-decoration-color: #c0c0c0; font-weight: bold\">Based on her experience and specialization in pulmonology, Dr. Sanchez has the skills to diagnose and </span>\n",
       "<span style=\"color: #c0c0c0; text-decoration-color: #c0c0c0; font-weight: bold\">manage potential cases of lung cancer. However, it's essential to consult with a multidisciplinary team for a </span>\n",
       "<span style=\"color: #c0c0c0; text-decoration-color: #c0c0c0; font-weight: bold\">definitive diagnosis and optimal treatment plan. The next step would be imaging tests like CT scans or PET scans to</span>\n",
       "<span style=\"color: #c0c0c0; text-decoration-color: #c0c0c0; font-weight: bold\">confirm or rule out lung cancer. If confirmed, further testing to determine the stage and best course of treatment </span>\n",
       "<span style=\"color: #c0c0c0; text-decoration-color: #c0c0c0; font-weight: bold\">would be necessary. The patient may need to consult with an oncologist for more detailed advice and management of </span>\n",
       "<span style=\"color: #c0c0c0; text-decoration-color: #c0c0c0; font-weight: bold\">their condition. </span>\n",
       "\n",
       "<span style=\"color: #c0c0c0; text-decoration-color: #c0c0c0; font-weight: bold\">A pulmonologist can provide early detection and management of this serious disease, while the multidisciplinary </span>\n",
       "<span style=\"color: #c0c0c0; text-decoration-color: #c0c0c0; font-weight: bold\">team will help coordinate care across specialties if needed.</span>\n",
       "</pre>\n"
      ],
      "text/plain": [
       "   - Why: \u001b[1;37mBased on her experience and specialization in pulmonology, Dr. Sanchez has the skills to diagnose and \u001b[0m\n",
       "\u001b[1;37mmanage potential cases of lung cancer. However, it's essential to consult with a multidisciplinary team for a \u001b[0m\n",
       "\u001b[1;37mdefinitive diagnosis and optimal treatment plan. The next step would be imaging tests like CT scans or PET scans to\u001b[0m\n",
       "\u001b[1;37mconfirm or rule out lung cancer. If confirmed, further testing to determine the stage and best course of treatment \u001b[0m\n",
       "\u001b[1;37mwould be necessary. The patient may need to consult with an oncologist for more detailed advice and management of \u001b[0m\n",
       "\u001b[1;37mtheir condition. \u001b[0m\n",
       "\n",
       "\u001b[1;37mA pulmonologist can provide early detection and management of this serious disease, while the multidisciplinary \u001b[0m\n",
       "\u001b[1;37mteam will help coordinate care across specialties if needed.\u001b[0m\n"
      ]
     },
     "metadata": {},
     "output_type": "display_data"
    },
    {
     "data": {
      "text/html": [
       "<pre style=\"white-space:pre;overflow-x:auto;line-height:normal;font-family:Menlo,'DejaVu Sans Mono',consolas,'Courier New',monospace\">\n",
       "<span style=\"color: #008080; text-decoration-color: #008080; font-weight: bold\">3</span>. <span style=\"color: #008080; text-decoration-color: #008080; font-weight: bold\">Dr. David Lee</span>\n",
       "</pre>\n"
      ],
      "text/plain": [
       "\n",
       "\u001b[1;36m3\u001b[0m. \u001b[1;36mDr. David Lee\u001b[0m\n"
      ]
     },
     "metadata": {},
     "output_type": "display_data"
    },
    {
     "data": {
      "text/html": [
       "<pre style=\"white-space:pre;overflow-x:auto;line-height:normal;font-family:Menlo,'DejaVu Sans Mono',consolas,'Courier New',monospace\">   - Specialization: <span style=\"color: #800080; text-decoration-color: #800080; font-weight: bold\">Oncology</span>\n",
       "</pre>\n"
      ],
      "text/plain": [
       "   - Specialization: \u001b[1;35mOncology\u001b[0m\n"
      ]
     },
     "metadata": {},
     "output_type": "display_data"
    },
    {
     "data": {
      "text/html": [
       "<pre style=\"white-space:pre;overflow-x:auto;line-height:normal;font-family:Menlo,'DejaVu Sans Mono',consolas,'Courier New',monospace\">   - Experience: <span style=\"color: #008000; text-decoration-color: #008000; font-weight: bold\">18</span><span style=\"color: #008000; text-decoration-color: #008000; font-weight: bold\"> years</span>\n",
       "</pre>\n"
      ],
      "text/plain": [
       "   - Experience: \u001b[1;32m18\u001b[0m\u001b[1;32m years\u001b[0m\n"
      ]
     },
     "metadata": {},
     "output_type": "display_data"
    },
    {
     "data": {
      "text/html": [
       "<pre style=\"white-space:pre;overflow-x:auto;line-height:normal;font-family:Menlo,'DejaVu Sans Mono',consolas,'Courier New',monospace\">   - Similarity Score: <span style=\"color: #808000; text-decoration-color: #808000; font-weight: bold\">1.4562686459276624</span>\n",
       "</pre>\n"
      ],
      "text/plain": [
       "   - Similarity Score: \u001b[1;33m1.4562686459276624\u001b[0m\n"
      ]
     },
     "metadata": {},
     "output_type": "display_data"
    },
    {
     "data": {
      "text/html": [
       "<pre style=\"white-space:pre;overflow-x:auto;line-height:normal;font-family:Menlo,'DejaVu Sans Mono',consolas,'Courier New',monospace\">   - Why: <span style=\"color: #c0c0c0; text-decoration-color: #c0c0c0; font-weight: bold\">Dr. David Lee's specialization in Oncology, combined with his long experience as a practicing physician </span>\n",
       "<span style=\"color: #c0c0c0; text-decoration-color: #c0c0c0; font-weight: bold\">(</span><span style=\"color: #c0c0c0; text-decoration-color: #c0c0c0; font-weight: bold\">18</span><span style=\"color: #c0c0c0; text-decoration-color: #c0c0c0; font-weight: bold\"> years), and patient history that suggests smoking and a family history of lung cancer, suggest that he would be</span>\n",
       "<span style=\"color: #c0c0c0; text-decoration-color: #c0c0c0; font-weight: bold\">well-equipped to make an accurate diagnosis. Smoking is one of the primary risk factors for lung cancer. He could </span>\n",
       "<span style=\"color: #c0c0c0; text-decoration-color: #c0c0c0; font-weight: bold\">consider ordering further testing such as chest X-rays or CT scans to confirm his suspicion.</span>\n",
       "</pre>\n"
      ],
      "text/plain": [
       "   - Why: \u001b[1;37mDr. David Lee's specialization in Oncology, combined with his long experience as a practicing physician \u001b[0m\n",
       "\u001b[1;37m(\u001b[0m\u001b[1;37m18\u001b[0m\u001b[1;37m years\u001b[0m\u001b[1;37m)\u001b[0m\u001b[1;37m, and patient history that suggests smoking and a family history of lung cancer, suggest that he would be\u001b[0m\n",
       "\u001b[1;37mwell-equipped to make an accurate diagnosis. Smoking is one of the primary risk factors for lung cancer. He could \u001b[0m\n",
       "\u001b[1;37mconsider ordering further testing such as chest X-rays or CT scans to confirm his suspicion.\u001b[0m\n"
      ]
     },
     "metadata": {},
     "output_type": "display_data"
    },
    {
     "data": {
      "text/html": [
       "<pre style=\"white-space:pre;overflow-x:auto;line-height:normal;font-family:Menlo,'DejaVu Sans Mono',consolas,'Courier New',monospace\">\n",
       "<span style=\"color: #008080; text-decoration-color: #008080; font-weight: bold\">4</span>. <span style=\"color: #008080; text-decoration-color: #008080; font-weight: bold\">Dr. Alexander White</span>\n",
       "</pre>\n"
      ],
      "text/plain": [
       "\n",
       "\u001b[1;36m4\u001b[0m. \u001b[1;36mDr. Alexander White\u001b[0m\n"
      ]
     },
     "metadata": {},
     "output_type": "display_data"
    },
    {
     "data": {
      "text/html": [
       "<pre style=\"white-space:pre;overflow-x:auto;line-height:normal;font-family:Menlo,'DejaVu Sans Mono',consolas,'Courier New',monospace\">   - Specialization: <span style=\"color: #800080; text-decoration-color: #800080; font-weight: bold\">Pulmonology</span>\n",
       "</pre>\n"
      ],
      "text/plain": [
       "   - Specialization: \u001b[1;35mPulmonology\u001b[0m\n"
      ]
     },
     "metadata": {},
     "output_type": "display_data"
    },
    {
     "data": {
      "text/html": [
       "<pre style=\"white-space:pre;overflow-x:auto;line-height:normal;font-family:Menlo,'DejaVu Sans Mono',consolas,'Courier New',monospace\">   - Experience: <span style=\"color: #008000; text-decoration-color: #008000; font-weight: bold\">12</span><span style=\"color: #008000; text-decoration-color: #008000; font-weight: bold\"> years</span>\n",
       "</pre>\n"
      ],
      "text/plain": [
       "   - Experience: \u001b[1;32m12\u001b[0m\u001b[1;32m years\u001b[0m\n"
      ]
     },
     "metadata": {},
     "output_type": "display_data"
    },
    {
     "data": {
      "text/html": [
       "<pre style=\"white-space:pre;overflow-x:auto;line-height:normal;font-family:Menlo,'DejaVu Sans Mono',consolas,'Courier New',monospace\">   - Similarity Score: <span style=\"color: #808000; text-decoration-color: #808000; font-weight: bold\">1.4991760854369018</span>\n",
       "</pre>\n"
      ],
      "text/plain": [
       "   - Similarity Score: \u001b[1;33m1.4991760854369018\u001b[0m\n"
      ]
     },
     "metadata": {},
     "output_type": "display_data"
    },
    {
     "data": {
      "text/html": [
       "<pre style=\"white-space:pre;overflow-x:auto;line-height:normal;font-family:Menlo,'DejaVu Sans Mono',consolas,'Courier New',monospace\">   - Why: <span style=\"color: #c0c0c0; text-decoration-color: #c0c0c0; font-weight: bold\">This doctor has the relevant training and experience in Pulmonology to diagnose and manage Lung Cancer. </span>\n",
       "<span style=\"color: #c0c0c0; text-decoration-color: #c0c0c0; font-weight: bold\">As a smoker himself, Dr White would be aware of the increased risk of developing lung cancer compared to </span>\n",
       "<span style=\"color: #c0c0c0; text-decoration-color: #c0c0c0; font-weight: bold\">non-smokers. However, he should also consider other potential causes of coughing, shortness of breath, and chest </span>\n",
       "<span style=\"color: #c0c0c0; text-decoration-color: #c0c0c0; font-weight: bold\">pain such as asthma or pneumonia. A CT scan and biopsy may be necessary for diagnosis, followed by further </span>\n",
       "<span style=\"color: #c0c0c0; text-decoration-color: #c0c0c0; font-weight: bold\">consultation with a radiation oncologist to discuss treatment options.</span>\n",
       "</pre>\n"
      ],
      "text/plain": [
       "   - Why: \u001b[1;37mThis doctor has the relevant training and experience in Pulmonology to diagnose and manage Lung Cancer. \u001b[0m\n",
       "\u001b[1;37mAs a smoker himself, Dr White would be aware of the increased risk of developing lung cancer compared to \u001b[0m\n",
       "\u001b[1;37mnon-smokers. However, he should also consider other potential causes of coughing, shortness of breath, and chest \u001b[0m\n",
       "\u001b[1;37mpain such as asthma or pneumonia. A CT scan and biopsy may be necessary for diagnosis, followed by further \u001b[0m\n",
       "\u001b[1;37mconsultation with a radiation oncologist to discuss treatment options.\u001b[0m\n"
      ]
     },
     "metadata": {},
     "output_type": "display_data"
    },
    {
     "data": {
      "text/html": [
       "<pre style=\"white-space:pre;overflow-x:auto;line-height:normal;font-family:Menlo,'DejaVu Sans Mono',consolas,'Courier New',monospace\">\n",
       "<span style=\"color: #008080; text-decoration-color: #008080; font-weight: bold\">5</span>. <span style=\"color: #008080; text-decoration-color: #008080; font-weight: bold\">Dr. Liam Brooks</span>\n",
       "</pre>\n"
      ],
      "text/plain": [
       "\n",
       "\u001b[1;36m5\u001b[0m. \u001b[1;36mDr. Liam Brooks\u001b[0m\n"
      ]
     },
     "metadata": {},
     "output_type": "display_data"
    },
    {
     "data": {
      "text/html": [
       "<pre style=\"white-space:pre;overflow-x:auto;line-height:normal;font-family:Menlo,'DejaVu Sans Mono',consolas,'Courier New',monospace\">   - Specialization: <span style=\"color: #800080; text-decoration-color: #800080; font-weight: bold\">Oncology</span>\n",
       "</pre>\n"
      ],
      "text/plain": [
       "   - Specialization: \u001b[1;35mOncology\u001b[0m\n"
      ]
     },
     "metadata": {},
     "output_type": "display_data"
    },
    {
     "data": {
      "text/html": [
       "<pre style=\"white-space:pre;overflow-x:auto;line-height:normal;font-family:Menlo,'DejaVu Sans Mono',consolas,'Courier New',monospace\">   - Experience: <span style=\"color: #008000; text-decoration-color: #008000; font-weight: bold\">14</span><span style=\"color: #008000; text-decoration-color: #008000; font-weight: bold\"> years</span>\n",
       "</pre>\n"
      ],
      "text/plain": [
       "   - Experience: \u001b[1;32m14\u001b[0m\u001b[1;32m years\u001b[0m\n"
      ]
     },
     "metadata": {},
     "output_type": "display_data"
    },
    {
     "data": {
      "text/html": [
       "<pre style=\"white-space:pre;overflow-x:auto;line-height:normal;font-family:Menlo,'DejaVu Sans Mono',consolas,'Courier New',monospace\">   - Similarity Score: <span style=\"color: #808000; text-decoration-color: #808000; font-weight: bold\">1.5231346108250647</span>\n",
       "</pre>\n"
      ],
      "text/plain": [
       "   - Similarity Score: \u001b[1;33m1.5231346108250647\u001b[0m\n"
      ]
     },
     "metadata": {},
     "output_type": "display_data"
    },
    {
     "data": {
      "text/html": [
       "<pre style=\"white-space:pre;overflow-x:auto;line-height:normal;font-family:Menlo,'DejaVu Sans Mono',consolas,'Courier New',monospace\">   - Why: <span style=\"color: #c0c0c0; text-decoration-color: #c0c0c0; font-weight: bold\">This oncologist has the right level of experience (</span><span style=\"color: #c0c0c0; text-decoration-color: #c0c0c0; font-weight: bold\">14</span><span style=\"color: #c0c0c0; text-decoration-color: #c0c0c0; font-weight: bold\">) to handle this case. She's also a specialist in </span>\n",
       "<span style=\"color: #c0c0c0; text-decoration-color: #c0c0c0; font-weight: bold\">her field and likely has experience with lung cancer cases. </span>\n",
       "</pre>\n"
      ],
      "text/plain": [
       "   - Why: \u001b[1;37mThis oncologist has the right level of experience \u001b[0m\u001b[1;37m(\u001b[0m\u001b[1;37m14\u001b[0m\u001b[1;37m)\u001b[0m\u001b[1;37m to handle this case. She's also a specialist in \u001b[0m\n",
       "\u001b[1;37mher field and likely has experience with lung cancer cases. \u001b[0m\n"
      ]
     },
     "metadata": {},
     "output_type": "display_data"
    }
   ],
   "source": [
    "import chromadb\n",
    "from rich.console import Console\n",
    "from rich.table import Table\n",
    "import ollama\n",
    "import re\n",
    "\n",
    "chroma_client = chromadb.PersistentClient(path=\"chroma_db_2\")\n",
    "collection = chroma_client.get_or_create_collection(name=\"doctor_profiles_2\")\n",
    "console = Console()\n",
    "\n",
    "def sanitize_markup(text):\n",
    "    return re.sub(r'\\[.*?\\]', '', text)\n",
    "\n",
    "def fetch_relevant_specializations(patient_report):\n",
    "    results = collection.query(query_texts=[patient_report], n_results=5)\n",
    "    \n",
    "    specializations = {metadata['Specialization'] for metadata in results.get('metadatas', [[]])[0] if 'Specialization' in metadata}\n",
    "    return specializations\n",
    "\n",
    "def recommend_doctors():\n",
    "    console.print(\"\\n[bold blue]Step 4: Enter Patient Report Details...[/bold blue]\")\n",
    "    symptoms = console.input(\"[bold green]Enter Symptoms:[/bold green] \").strip()\n",
    "    history = console.input(\"[bold green]Enter Patient History:[/bold green] \").strip()\n",
    "    diagnosis = console.input(\"[bold green]Enter Preliminary Diagnosis:[/bold green] \").strip()\n",
    "\n",
    "    if not all([symptoms, history, diagnosis]):\n",
    "        console.print(\"[bold red]Error: All fields are required.[/bold red]\")\n",
    "        return []\n",
    "\n",
    "    patient_report = f\"Symptoms: {symptoms}. History: {history}. Preliminary Diagnosis: {diagnosis}.\"\n",
    "    relevant_specializations = fetch_relevant_specializations(patient_report)\n",
    "\n",
    "    if not relevant_specializations:\n",
    "        console.print(\"[bold red]No relevant specializations found.[/bold red]\")\n",
    "        return []\n",
    "\n",
    "    console.print(f\"\\n[bold green]Retrieved {len(relevant_specializations)} relevant specializations: {', '.join(relevant_specializations)}[/bold green]\")\n",
    "\n",
    "    results = collection.query(query_texts=[patient_report], n_results=5)\n",
    "    if not results.get('ids', [[]])[0]:\n",
    "        console.print(\"[bold red]No relevant doctors found.[/bold red]\")\n",
    "        return []\n",
    "\n",
    "    recommendations = []\n",
    "    for i, metadata in enumerate(results.get('metadatas', [[]])[0]):\n",
    "        name = metadata.get('Name', 'Unknown')\n",
    "        specialization = metadata.get('Specialization', 'Unknown')\n",
    "        experience = metadata.get('Years of Experience', 'N/A')\n",
    "        distance = results.get('distances', [[float('inf')]])[0][i]\n",
    "\n",
    "        if specialization.lower() not in {s.lower() for s in relevant_specializations}:\n",
    "            console.print(f\"[bold red]Skipping {name} ({specialization}) - Not a relevant specialization.[/bold red]\")\n",
    "            continue\n",
    "\n",
    "        prompt = (\n",
    "            f\"Doctor: {name} - Specialization: {specialization} | Experience: {experience}\\n\"\n",
    "            f\"Patient Report: {patient_report}\\nWhy is this doctor suitable?\"\n",
    "        )\n",
    "\n",
    "        try:\n",
    "            response = ollama.chat(model=\"MedLlama2\", messages=[{\"role\": \"user\", \"content\": prompt}])\n",
    "            generated_summary = response.get('message', {}).get('content', \"No explanation provided.\")\n",
    "        except Exception as e:\n",
    "            generated_summary = f\"Error generating explanation: {str(e)}. This doctor is likely suitable based on specialization ({specialization}) and experience ({experience}).\"\n",
    "\n",
    "        recommendations.append({\n",
    "            \"Name\": name,\n",
    "            \"Specialization\": specialization,\n",
    "            \"Experience\": experience,\n",
    "            \"Distance\": distance,\n",
    "            \"Why\": generated_summary\n",
    "        })\n",
    "\n",
    "    return sorted(recommendations, key=lambda x: x['Distance'])[:5]\n",
    "\n",
    "def display_recommendations(recommendations):\n",
    "    if not recommendations:\n",
    "        console.print(\"[bold red]No recommendations to display.[/bold red]\")\n",
    "        return\n",
    "\n",
    "    console.print(\"\\n[bold green]Step 6: Final Output[/bold green]\")\n",
    "    console.print(\"[bold blue]Recommendations:[/bold blue]\")\n",
    "\n",
    "    for i, rec in enumerate(recommendations, start=1):\n",
    "        console.print(f\"\\n{i}. [bold cyan]{rec['Name']}[/bold cyan]\")\n",
    "        console.print(f\"   - Specialization: [bold magenta]{rec['Specialization']}[/bold magenta]\")\n",
    "        console.print(f\"   - Experience: [bold green]{rec['Experience']} years[/bold green]\")\n",
    "        console.print(f\"   - Similarity Score: [bold yellow]{rec['Distance']}[/bold yellow]\")\n",
    "        console.print(f\"   - Why: [bold white]{sanitize_markup(rec['Why'])}[/bold white]\")\n",
    "\n",
    "if __name__ == \"__main__\":\n",
    "    display_recommendations(recommend_doctors())"
   ]
  }
 ],
 "metadata": {
  "kernelspec": {
   "display_name": "Python 3 (ipykernel)",
   "language": "python",
   "name": "python3"
  },
  "language_info": {
   "codemirror_mode": {
    "name": "ipython",
    "version": 3
   },
   "file_extension": ".py",
   "mimetype": "text/x-python",
   "name": "python",
   "nbconvert_exporter": "python",
   "pygments_lexer": "ipython3",
   "version": "3.11.4"
  }
 },
 "nbformat": 4,
 "nbformat_minor": 5
}
